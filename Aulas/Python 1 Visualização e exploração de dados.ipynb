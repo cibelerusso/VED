{
 "cells": [
  {
   "cell_type": "markdown",
   "metadata": {
    "id": "OBBevBXWpgMx"
   },
   "source": [
    "# Visualização e exploração de dados em Python\n",
    "\n",
    "\n",
    "por **Cibele Russo** \n",
    "\n",
    "**ICMC/USP - São Carlos SP**\n",
    "\n",
    "\n",
    "\n",
    "\n",
    "Alguns vídeos complementares sugeridos:\n",
    "\n",
    "- Análise descritiva em Python - Uma aplicação (Prof. Cibele Russo) https://www.youtube.com/watch?v=R44jbSmpjgg\n",
    "\n",
    "- Análise Exploratória de dados: Medidas Resumo (Prof. Francisco Rodrigues) https://www.youtube.com/watch?v=bD2UYs1w_s4\n",
    "\n",
    "\n"
   ]
  },
  {
   "cell_type": "markdown",
   "metadata": {
    "id": "WXcecFLkpgNH"
   },
   "source": [
    "\n",
    "## Programa\n",
    "\n",
    "a. Medidas de posição ou localização\n",
    "\n",
    "b. Medidas de dispersão\n",
    "\n",
    "c. Apresentação tabular\n",
    "\n",
    "d. Representação Gráfica\n",
    "\n",
    "e. Assimetria e curtose"
   ]
  },
  {
   "cell_type": "markdown",
   "metadata": {},
   "source": [
    "## Pacotes que serão utilizados"
   ]
  },
  {
   "cell_type": "code",
   "execution_count": null,
   "metadata": {},
   "outputs": [],
   "source": [
    "from matplotlib import pyplot as plt\n",
    "import pandas as pd\n",
    "import seaborn as sns\n",
    "import statistics"
   ]
  },
  {
   "cell_type": "markdown",
   "metadata": {
    "id": "J9UkYDXcpgNm"
   },
   "source": [
    "## Aplicação com visualização e exploração de dados\n",
    "\n",
    "Considere os dados de 100 mil clientes de um banco no arquivo dados_banco.csv. Estão disponíveis as variáveis:\n",
    "\n",
    "- Cliente: Identificador do cliente.\n",
    "- Sexo: Feminino (F) ou Masculino (M)\n",
    "- Idade: Idade do cliente, em anos completos.\n",
    "- Empresa: Tipo da empresa em que trabalha: Pública, Privada ou Autônomo\n",
    "- Salário: Salário declarado pelo cliente na abertura da conta, em reais.\n",
    "- Saldo_cc: Saldo em conta corrente, em reais.\n",
    "- Saldo_poupança: Saldo em poupança, em reais.\n",
    "- Saldo_investimento: Saldo em investimentos, em reais.\n",
    "- Devedor_cartao: Valor em atraso no cartão de crédito, em reais.\n",
    "- Inadimplente: Se o cliente é considerado inadimplente atualmente (1) ou não (0), de acordo com critérios preestabelecidos.\n",
    "\n",
    "\n",
    "Faremos uma introdução à visualização e exploração dos dados. "
   ]
  },
  {
   "cell_type": "code",
   "execution_count": 1,
   "metadata": {
    "colab": {
     "base_uri": "https://localhost:8080/",
     "height": 444
    },
    "executionInfo": {
     "elapsed": 3791,
     "status": "ok",
     "timestamp": 1618514361628,
     "user": {
      "displayName": "Cibele Russo",
      "photoUrl": "https://lh3.googleusercontent.com/a-/AOh14Gji-jMhjQu9TaA43mxVFn6ggWlzNZl0J-f8OMlZmw=s64",
      "userId": "07272141402608887263"
     },
     "user_tz": 180
    },
    "id": "LfxBGxsapgNm",
    "outputId": "80d1cc9e-f968-4d00-c98e-441538e017e8"
   },
   "outputs": [
    {
     "data": {
      "text/html": [
       "<div>\n",
       "<style scoped>\n",
       "    .dataframe tbody tr th:only-of-type {\n",
       "        vertical-align: middle;\n",
       "    }\n",
       "\n",
       "    .dataframe tbody tr th {\n",
       "        vertical-align: top;\n",
       "    }\n",
       "\n",
       "    .dataframe thead th {\n",
       "        text-align: right;\n",
       "    }\n",
       "</style>\n",
       "<table border=\"1\" class=\"dataframe\">\n",
       "  <thead>\n",
       "    <tr style=\"text-align: right;\">\n",
       "      <th></th>\n",
       "      <th>Cliente</th>\n",
       "      <th>Sexo</th>\n",
       "      <th>Idade</th>\n",
       "      <th>Empresa</th>\n",
       "      <th>Salario</th>\n",
       "      <th>Saldo_cc</th>\n",
       "      <th>Saldo_poupança</th>\n",
       "      <th>Saldo_investimento</th>\n",
       "      <th>Devedor_cartao</th>\n",
       "      <th>Inadimplente</th>\n",
       "    </tr>\n",
       "  </thead>\n",
       "  <tbody>\n",
       "    <tr>\n",
       "      <th>1</th>\n",
       "      <td>1</td>\n",
       "      <td>M</td>\n",
       "      <td>33</td>\n",
       "      <td>Privada</td>\n",
       "      <td>6019</td>\n",
       "      <td>1084.98</td>\n",
       "      <td>0.00</td>\n",
       "      <td>0.00</td>\n",
       "      <td>1214.35</td>\n",
       "      <td>0</td>\n",
       "    </tr>\n",
       "    <tr>\n",
       "      <th>2</th>\n",
       "      <td>2</td>\n",
       "      <td>F</td>\n",
       "      <td>31</td>\n",
       "      <td>Pública</td>\n",
       "      <td>5134</td>\n",
       "      <td>532.09</td>\n",
       "      <td>0.00</td>\n",
       "      <td>0.00</td>\n",
       "      <td>1662.96</td>\n",
       "      <td>0</td>\n",
       "    </tr>\n",
       "    <tr>\n",
       "      <th>3</th>\n",
       "      <td>3</td>\n",
       "      <td>M</td>\n",
       "      <td>31</td>\n",
       "      <td>Pública</td>\n",
       "      <td>5286</td>\n",
       "      <td>719.91</td>\n",
       "      <td>0.00</td>\n",
       "      <td>0.00</td>\n",
       "      <td>2167.97</td>\n",
       "      <td>0</td>\n",
       "    </tr>\n",
       "    <tr>\n",
       "      <th>4</th>\n",
       "      <td>4</td>\n",
       "      <td>F</td>\n",
       "      <td>32</td>\n",
       "      <td>Privada</td>\n",
       "      <td>5534</td>\n",
       "      <td>547.47</td>\n",
       "      <td>0.00</td>\n",
       "      <td>0.00</td>\n",
       "      <td>639.13</td>\n",
       "      <td>1</td>\n",
       "    </tr>\n",
       "    <tr>\n",
       "      <th>5</th>\n",
       "      <td>5</td>\n",
       "      <td>F</td>\n",
       "      <td>28</td>\n",
       "      <td>Autônomo</td>\n",
       "      <td>4559</td>\n",
       "      <td>412.81</td>\n",
       "      <td>0.00</td>\n",
       "      <td>0.00</td>\n",
       "      <td>1466.96</td>\n",
       "      <td>1</td>\n",
       "    </tr>\n",
       "    <tr>\n",
       "      <th>...</th>\n",
       "      <td>...</td>\n",
       "      <td>...</td>\n",
       "      <td>...</td>\n",
       "      <td>...</td>\n",
       "      <td>...</td>\n",
       "      <td>...</td>\n",
       "      <td>...</td>\n",
       "      <td>...</td>\n",
       "      <td>...</td>\n",
       "      <td>...</td>\n",
       "    </tr>\n",
       "    <tr>\n",
       "      <th>99996</th>\n",
       "      <td>99996</td>\n",
       "      <td>F</td>\n",
       "      <td>31</td>\n",
       "      <td>Autônomo</td>\n",
       "      <td>5246</td>\n",
       "      <td>650.93</td>\n",
       "      <td>0.00</td>\n",
       "      <td>0.00</td>\n",
       "      <td>2083.84</td>\n",
       "      <td>1</td>\n",
       "    </tr>\n",
       "    <tr>\n",
       "      <th>99997</th>\n",
       "      <td>99997</td>\n",
       "      <td>M</td>\n",
       "      <td>32</td>\n",
       "      <td>Privada</td>\n",
       "      <td>5678</td>\n",
       "      <td>877.58</td>\n",
       "      <td>16881.08</td>\n",
       "      <td>9482.21</td>\n",
       "      <td>0.00</td>\n",
       "      <td>0</td>\n",
       "    </tr>\n",
       "    <tr>\n",
       "      <th>99998</th>\n",
       "      <td>99998</td>\n",
       "      <td>M</td>\n",
       "      <td>31</td>\n",
       "      <td>Pública</td>\n",
       "      <td>5430</td>\n",
       "      <td>627.46</td>\n",
       "      <td>0.00</td>\n",
       "      <td>0.00</td>\n",
       "      <td>1239.22</td>\n",
       "      <td>0</td>\n",
       "    </tr>\n",
       "    <tr>\n",
       "      <th>99999</th>\n",
       "      <td>99999</td>\n",
       "      <td>F</td>\n",
       "      <td>30</td>\n",
       "      <td>Pública</td>\n",
       "      <td>5070</td>\n",
       "      <td>573.75</td>\n",
       "      <td>0.00</td>\n",
       "      <td>0.00</td>\n",
       "      <td>3427.16</td>\n",
       "      <td>0</td>\n",
       "    </tr>\n",
       "    <tr>\n",
       "      <th>100000</th>\n",
       "      <td>100000</td>\n",
       "      <td>M</td>\n",
       "      <td>31</td>\n",
       "      <td>Autônomo</td>\n",
       "      <td>5323</td>\n",
       "      <td>456.93</td>\n",
       "      <td>0.00</td>\n",
       "      <td>0.00</td>\n",
       "      <td>3119.86</td>\n",
       "      <td>0</td>\n",
       "    </tr>\n",
       "  </tbody>\n",
       "</table>\n",
       "<p>100000 rows × 10 columns</p>\n",
       "</div>"
      ],
      "text/plain": [
       "        Cliente Sexo  Idade   Empresa  Salario  Saldo_cc  Saldo_poupança  \\\n",
       "1             1    M     33   Privada     6019   1084.98            0.00   \n",
       "2             2    F     31   Pública     5134    532.09            0.00   \n",
       "3             3    M     31   Pública     5286    719.91            0.00   \n",
       "4             4    F     32   Privada     5534    547.47            0.00   \n",
       "5             5    F     28  Autônomo     4559    412.81            0.00   \n",
       "...         ...  ...    ...       ...      ...       ...             ...   \n",
       "99996     99996    F     31  Autônomo     5246    650.93            0.00   \n",
       "99997     99997    M     32   Privada     5678    877.58        16881.08   \n",
       "99998     99998    M     31   Pública     5430    627.46            0.00   \n",
       "99999     99999    F     30   Pública     5070    573.75            0.00   \n",
       "100000   100000    M     31  Autônomo     5323    456.93            0.00   \n",
       "\n",
       "        Saldo_investimento  Devedor_cartao  Inadimplente  \n",
       "1                     0.00         1214.35             0  \n",
       "2                     0.00         1662.96             0  \n",
       "3                     0.00         2167.97             0  \n",
       "4                     0.00          639.13             1  \n",
       "5                     0.00         1466.96             1  \n",
       "...                    ...             ...           ...  \n",
       "99996                 0.00         2083.84             1  \n",
       "99997              9482.21            0.00             0  \n",
       "99998                 0.00         1239.22             0  \n",
       "99999                 0.00         3427.16             0  \n",
       "100000                0.00         3119.86             0  \n",
       "\n",
       "[100000 rows x 10 columns]"
      ]
     },
     "execution_count": 1,
     "metadata": {},
     "output_type": "execute_result"
    }
   ],
   "source": [
    "import os.path\n",
    "import pandas as pd\n",
    "import matplotlib.pyplot as plt\n",
    "import numpy as np\n",
    "import seaborn as sns\n",
    "from scipy import stats\n",
    "\n",
    "%matplotlib inline\n",
    "\n",
    "# Modifique o diretório para fazer a leitura dos dados em dados_banco.csv\n",
    "\n",
    "pkgdir = '/home/cibele/Google Drive/Disciplinas/!2021 Visualização e Exploração de Dados/Comandos R'\n",
    "\n",
    "# Dados banco - Leitura dos dados\n",
    "dados = pd.read_csv(f'{pkgdir}/dados_banco.csv', index_col=0, decimal=',')\n",
    " \n",
    "dados"
   ]
  },
  {
   "cell_type": "code",
   "execution_count": 5,
   "metadata": {
    "colab": {
     "base_uri": "https://localhost:8080/",
     "height": 206
    },
    "executionInfo": {
     "elapsed": 3784,
     "status": "ok",
     "timestamp": 1618514361630,
     "user": {
      "displayName": "Cibele Russo",
      "photoUrl": "https://lh3.googleusercontent.com/a-/AOh14Gji-jMhjQu9TaA43mxVFn6ggWlzNZl0J-f8OMlZmw=s64",
      "userId": "07272141402608887263"
     },
     "user_tz": 180
    },
    "id": "3VAXk_bgpgNn",
    "outputId": "8fb617a0-b07d-448c-f2a3-4d7c7747c3e0"
   },
   "outputs": [
    {
     "data": {
      "text/html": [
       "<div>\n",
       "<style scoped>\n",
       "    .dataframe tbody tr th:only-of-type {\n",
       "        vertical-align: middle;\n",
       "    }\n",
       "\n",
       "    .dataframe tbody tr th {\n",
       "        vertical-align: top;\n",
       "    }\n",
       "\n",
       "    .dataframe thead th {\n",
       "        text-align: right;\n",
       "    }\n",
       "</style>\n",
       "<table border=\"1\" class=\"dataframe\">\n",
       "  <thead>\n",
       "    <tr style=\"text-align: right;\">\n",
       "      <th></th>\n",
       "      <th>Cliente</th>\n",
       "      <th>Sexo</th>\n",
       "      <th>Idade</th>\n",
       "      <th>Empresa</th>\n",
       "      <th>Salario</th>\n",
       "      <th>Saldo_cc</th>\n",
       "      <th>Saldo_poupança</th>\n",
       "      <th>Saldo_investimento</th>\n",
       "      <th>Devedor_cartao</th>\n",
       "      <th>Inadimplente</th>\n",
       "    </tr>\n",
       "  </thead>\n",
       "  <tbody>\n",
       "    <tr>\n",
       "      <th>1</th>\n",
       "      <td>1</td>\n",
       "      <td>M</td>\n",
       "      <td>33</td>\n",
       "      <td>Privada</td>\n",
       "      <td>6019</td>\n",
       "      <td>1084.98</td>\n",
       "      <td>0.0</td>\n",
       "      <td>0.0</td>\n",
       "      <td>1214.35</td>\n",
       "      <td>0</td>\n",
       "    </tr>\n",
       "    <tr>\n",
       "      <th>2</th>\n",
       "      <td>2</td>\n",
       "      <td>F</td>\n",
       "      <td>31</td>\n",
       "      <td>Pública</td>\n",
       "      <td>5134</td>\n",
       "      <td>532.09</td>\n",
       "      <td>0.0</td>\n",
       "      <td>0.0</td>\n",
       "      <td>1662.96</td>\n",
       "      <td>0</td>\n",
       "    </tr>\n",
       "    <tr>\n",
       "      <th>3</th>\n",
       "      <td>3</td>\n",
       "      <td>M</td>\n",
       "      <td>31</td>\n",
       "      <td>Pública</td>\n",
       "      <td>5286</td>\n",
       "      <td>719.91</td>\n",
       "      <td>0.0</td>\n",
       "      <td>0.0</td>\n",
       "      <td>2167.97</td>\n",
       "      <td>0</td>\n",
       "    </tr>\n",
       "    <tr>\n",
       "      <th>4</th>\n",
       "      <td>4</td>\n",
       "      <td>F</td>\n",
       "      <td>32</td>\n",
       "      <td>Privada</td>\n",
       "      <td>5534</td>\n",
       "      <td>547.47</td>\n",
       "      <td>0.0</td>\n",
       "      <td>0.0</td>\n",
       "      <td>639.13</td>\n",
       "      <td>1</td>\n",
       "    </tr>\n",
       "    <tr>\n",
       "      <th>5</th>\n",
       "      <td>5</td>\n",
       "      <td>F</td>\n",
       "      <td>28</td>\n",
       "      <td>Autônomo</td>\n",
       "      <td>4559</td>\n",
       "      <td>412.81</td>\n",
       "      <td>0.0</td>\n",
       "      <td>0.0</td>\n",
       "      <td>1466.96</td>\n",
       "      <td>1</td>\n",
       "    </tr>\n",
       "  </tbody>\n",
       "</table>\n",
       "</div>"
      ],
      "text/plain": [
       "   Cliente Sexo  Idade   Empresa  Salario  Saldo_cc  Saldo_poupança  \\\n",
       "1        1    M     33   Privada     6019   1084.98             0.0   \n",
       "2        2    F     31   Pública     5134    532.09             0.0   \n",
       "3        3    M     31   Pública     5286    719.91             0.0   \n",
       "4        4    F     32   Privada     5534    547.47             0.0   \n",
       "5        5    F     28  Autônomo     4559    412.81             0.0   \n",
       "\n",
       "   Saldo_investimento  Devedor_cartao  Inadimplente  \n",
       "1                 0.0         1214.35             0  \n",
       "2                 0.0         1662.96             0  \n",
       "3                 0.0         2167.97             0  \n",
       "4                 0.0          639.13             1  \n",
       "5                 0.0         1466.96             1  "
      ]
     },
     "execution_count": 5,
     "metadata": {},
     "output_type": "execute_result"
    }
   ],
   "source": [
    "dados.head()"
   ]
  },
  {
   "cell_type": "markdown",
   "metadata": {
    "id": "zmF_eJCGpgNo"
   },
   "source": [
    "### Classificação das variáveis por tipo\n",
    "\n",
    "- Sexo: qualitativa nominal\n",
    "- Idade: quantitativa contínua\n",
    "- Empresa: qualitativa nominal\n",
    "- Salário: quantitativa contínua\n",
    "- Saldo_cc: quantitativa contínua\n",
    "- Saldo_poupança: quantitativa contínua\n",
    "- Saldo_investimento: quantitativa contínua\n",
    "- Devedor_cartão: quantitativa contínua\n",
    "- Inadimplente: qualitativa nominal (embora numérica)"
   ]
  },
  {
   "cell_type": "markdown",
   "metadata": {
    "id": "5T5OtgwapgNp"
   },
   "source": [
    "### Tabela de frequências (absolutas e relativas)\n",
    "(para a Empresa, repetir para outras variáveis qualitativas)"
   ]
  },
  {
   "cell_type": "code",
   "execution_count": 6,
   "metadata": {
    "colab": {
     "base_uri": "https://localhost:8080/",
     "height": 175
    },
    "executionInfo": {
     "elapsed": 3781,
     "status": "ok",
     "timestamp": 1618514361632,
     "user": {
      "displayName": "Cibele Russo",
      "photoUrl": "https://lh3.googleusercontent.com/a-/AOh14Gji-jMhjQu9TaA43mxVFn6ggWlzNZl0J-f8OMlZmw=s64",
      "userId": "07272141402608887263"
     },
     "user_tz": 180
    },
    "id": "Nf2LHRFhpgNp",
    "outputId": "78e97feb-1dd6-438b-ee08-50e44f0526ba"
   },
   "outputs": [
    {
     "data": {
      "text/html": [
       "<div>\n",
       "<style scoped>\n",
       "    .dataframe tbody tr th:only-of-type {\n",
       "        vertical-align: middle;\n",
       "    }\n",
       "\n",
       "    .dataframe tbody tr th {\n",
       "        vertical-align: top;\n",
       "    }\n",
       "\n",
       "    .dataframe thead th {\n",
       "        text-align: right;\n",
       "    }\n",
       "</style>\n",
       "<table border=\"1\" class=\"dataframe\">\n",
       "  <thead>\n",
       "    <tr style=\"text-align: right;\">\n",
       "      <th>col_0</th>\n",
       "      <th>count</th>\n",
       "    </tr>\n",
       "    <tr>\n",
       "      <th>Empresa</th>\n",
       "      <th></th>\n",
       "    </tr>\n",
       "  </thead>\n",
       "  <tbody>\n",
       "    <tr>\n",
       "      <th>Autônomo</th>\n",
       "      <td>14206</td>\n",
       "    </tr>\n",
       "    <tr>\n",
       "      <th>Privada</th>\n",
       "      <td>61624</td>\n",
       "    </tr>\n",
       "    <tr>\n",
       "      <th>Pública</th>\n",
       "      <td>24170</td>\n",
       "    </tr>\n",
       "  </tbody>\n",
       "</table>\n",
       "</div>"
      ],
      "text/plain": [
       "col_0     count\n",
       "Empresa        \n",
       "Autônomo  14206\n",
       "Privada   61624\n",
       "Pública   24170"
      ]
     },
     "execution_count": 6,
     "metadata": {},
     "output_type": "execute_result"
    }
   ],
   "source": [
    "# Tabela de frequências absolutas\n",
    "\n",
    "tab = pd.crosstab(index=dados['Empresa'], columns='count')\n",
    "\n",
    "tab"
   ]
  },
  {
   "cell_type": "code",
   "execution_count": 7,
   "metadata": {
    "colab": {
     "base_uri": "https://localhost:8080/",
     "height": 175
    },
    "executionInfo": {
     "elapsed": 3777,
     "status": "ok",
     "timestamp": 1618514361634,
     "user": {
      "displayName": "Cibele Russo",
      "photoUrl": "https://lh3.googleusercontent.com/a-/AOh14Gji-jMhjQu9TaA43mxVFn6ggWlzNZl0J-f8OMlZmw=s64",
      "userId": "07272141402608887263"
     },
     "user_tz": 180
    },
    "id": "TYoiStFNpgNq",
    "outputId": "0c90b714-610b-411f-c25e-9e82224e09c8"
   },
   "outputs": [
    {
     "data": {
      "text/html": [
       "<div>\n",
       "<style scoped>\n",
       "    .dataframe tbody tr th:only-of-type {\n",
       "        vertical-align: middle;\n",
       "    }\n",
       "\n",
       "    .dataframe tbody tr th {\n",
       "        vertical-align: top;\n",
       "    }\n",
       "\n",
       "    .dataframe thead th {\n",
       "        text-align: right;\n",
       "    }\n",
       "</style>\n",
       "<table border=\"1\" class=\"dataframe\">\n",
       "  <thead>\n",
       "    <tr style=\"text-align: right;\">\n",
       "      <th>col_0</th>\n",
       "      <th>count</th>\n",
       "    </tr>\n",
       "    <tr>\n",
       "      <th>Empresa</th>\n",
       "      <th></th>\n",
       "    </tr>\n",
       "  </thead>\n",
       "  <tbody>\n",
       "    <tr>\n",
       "      <th>Autônomo</th>\n",
       "      <td>0.14206</td>\n",
       "    </tr>\n",
       "    <tr>\n",
       "      <th>Privada</th>\n",
       "      <td>0.61624</td>\n",
       "    </tr>\n",
       "    <tr>\n",
       "      <th>Pública</th>\n",
       "      <td>0.24170</td>\n",
       "    </tr>\n",
       "  </tbody>\n",
       "</table>\n",
       "</div>"
      ],
      "text/plain": [
       "col_0       count\n",
       "Empresa          \n",
       "Autônomo  0.14206\n",
       "Privada   0.61624\n",
       "Pública   0.24170"
      ]
     },
     "execution_count": 7,
     "metadata": {},
     "output_type": "execute_result"
    }
   ],
   "source": [
    "tab = pd.crosstab(index=dados['Empresa'], columns='count')\n",
    "\n",
    "# Tabela de frequências relativas\n",
    "tab/tab.sum()\n"
   ]
  },
  {
   "cell_type": "markdown",
   "metadata": {
    "id": "sN9bRIfSpgNq"
   },
   "source": [
    "**Análise:** Na base de dados, cerca de 62% dos clientes trabalham em empresas privadas, 24% em empresas públicas e 14% são autônomos."
   ]
  },
  {
   "cell_type": "markdown",
   "metadata": {
    "id": "i5NZizHApgNr"
   },
   "source": [
    "### Medidas resumo\n",
    "(para a idade, poderia repetir para as outras variáveis quantitativas)"
   ]
  },
  {
   "cell_type": "code",
   "execution_count": 8,
   "metadata": {
    "colab": {
     "base_uri": "https://localhost:8080/"
    },
    "executionInfo": {
     "elapsed": 3772,
     "status": "ok",
     "timestamp": 1618514361636,
     "user": {
      "displayName": "Cibele Russo",
      "photoUrl": "https://lh3.googleusercontent.com/a-/AOh14Gji-jMhjQu9TaA43mxVFn6ggWlzNZl0J-f8OMlZmw=s64",
      "userId": "07272141402608887263"
     },
     "user_tz": 180
    },
    "id": "ktCMIGF4pgNr",
    "outputId": "28552ea0-d34d-47f9-a9ff-222e566a43cf"
   },
   "outputs": [
    {
     "data": {
      "text/plain": [
       "31.83236"
      ]
     },
     "execution_count": 8,
     "metadata": {},
     "output_type": "execute_result"
    }
   ],
   "source": [
    "# Média\n",
    "\n",
    "dados['Idade'].mean()"
   ]
  },
  {
   "cell_type": "code",
   "execution_count": 9,
   "metadata": {
    "colab": {
     "base_uri": "https://localhost:8080/"
    },
    "executionInfo": {
     "elapsed": 3767,
     "status": "ok",
     "timestamp": 1618514361637,
     "user": {
      "displayName": "Cibele Russo",
      "photoUrl": "https://lh3.googleusercontent.com/a-/AOh14Gji-jMhjQu9TaA43mxVFn6ggWlzNZl0J-f8OMlZmw=s64",
      "userId": "07272141402608887263"
     },
     "user_tz": 180
    },
    "id": "oZMgHQaZpgNr",
    "outputId": "a994f034-c670-44c8-fd38-282dbcd681b9"
   },
   "outputs": [
    {
     "data": {
      "text/plain": [
       "32.0"
      ]
     },
     "execution_count": 9,
     "metadata": {},
     "output_type": "execute_result"
    }
   ],
   "source": [
    "# Mediana\n",
    "\n",
    "dados['Idade'].median()"
   ]
  },
  {
   "cell_type": "code",
   "execution_count": 10,
   "metadata": {
    "colab": {
     "base_uri": "https://localhost:8080/"
    },
    "executionInfo": {
     "elapsed": 3761,
     "status": "ok",
     "timestamp": 1618514361638,
     "user": {
      "displayName": "Cibele Russo",
      "photoUrl": "https://lh3.googleusercontent.com/a-/AOh14Gji-jMhjQu9TaA43mxVFn6ggWlzNZl0J-f8OMlZmw=s64",
      "userId": "07272141402608887263"
     },
     "user_tz": 180
    },
    "id": "bwYFNDwTpgNs",
    "outputId": "4119ee5c-dfc9-4827-e1c1-929b06cfde74"
   },
   "outputs": [
    {
     "data": {
      "text/plain": [
       "2.9277196836161856"
      ]
     },
     "execution_count": 10,
     "metadata": {},
     "output_type": "execute_result"
    }
   ],
   "source": [
    "# Desvio-padrão\n",
    "\n",
    "dados['Idade'].std()"
   ]
  },
  {
   "cell_type": "code",
   "execution_count": 11,
   "metadata": {
    "colab": {
     "base_uri": "https://localhost:8080/"
    },
    "executionInfo": {
     "elapsed": 3754,
     "status": "ok",
     "timestamp": 1618514361638,
     "user": {
      "displayName": "Cibele Russo",
      "photoUrl": "https://lh3.googleusercontent.com/a-/AOh14Gji-jMhjQu9TaA43mxVFn6ggWlzNZl0J-f8OMlZmw=s64",
      "userId": "07272141402608887263"
     },
     "user_tz": 180
    },
    "id": "bMVflD_OpgNs",
    "outputId": "2c5e0e50-5053-4ba8-e73d-955568633287"
   },
   "outputs": [
    {
     "data": {
      "text/plain": [
       "Sexo\n",
       "F    30.147903\n",
       "M    33.044399\n",
       "Name: Idade, dtype: float64"
      ]
     },
     "execution_count": 11,
     "metadata": {},
     "output_type": "execute_result"
    }
   ],
   "source": [
    "# Média de idade por grupos\n",
    "\n",
    "dados.groupby('Sexo')['Idade'].mean()"
   ]
  },
  {
   "cell_type": "markdown",
   "metadata": {
    "id": "Xbk75PIipgNt"
   },
   "source": [
    "**Análise:** A média de idade nos dados é 31.8 anos, a mediana é 32 anos. O desvio-padrão da idade na base de dados geral é 2.93 anos. Entre mulheres, a média de idade é 30.1 anos e entre homens, 33 anos. "
   ]
  },
  {
   "cell_type": "code",
   "execution_count": 12,
   "metadata": {
    "colab": {
     "base_uri": "https://localhost:8080/"
    },
    "executionInfo": {
     "elapsed": 3749,
     "status": "ok",
     "timestamp": 1618514361640,
     "user": {
      "displayName": "Cibele Russo",
      "photoUrl": "https://lh3.googleusercontent.com/a-/AOh14Gji-jMhjQu9TaA43mxVFn6ggWlzNZl0J-f8OMlZmw=s64",
      "userId": "07272141402608887263"
     },
     "user_tz": 180
    },
    "id": "lbGgCI2ppgNt",
    "outputId": "c7b0cf84-5745-4dc9-c6cf-4ee6f89f0a8c"
   },
   "outputs": [
    {
     "data": {
      "text/plain": [
       "Empresa\n",
       "Autônomo    29.264184\n",
       "Privada     32.865523\n",
       "Pública     30.707654\n",
       "Name: Idade, dtype: float64"
      ]
     },
     "execution_count": 12,
     "metadata": {},
     "output_type": "execute_result"
    }
   ],
   "source": [
    "# Média de idade por grupos\n",
    "\n",
    "dados.groupby('Empresa')['Idade'].mean()"
   ]
  },
  {
   "cell_type": "markdown",
   "metadata": {
    "id": "SY7TgaZ2pgNu"
   },
   "source": [
    "**Análise:** A média de idade entre os clientes autônomos é de 29.3 anos, entre clientes que trabalham em empresas privadas é 32.9 anos e para clientes que trabalham em empresas públicas é 30.7 anos."
   ]
  },
  {
   "cell_type": "code",
   "execution_count": 13,
   "metadata": {
    "colab": {
     "base_uri": "https://localhost:8080/",
     "height": 35
    },
    "executionInfo": {
     "elapsed": 3742,
     "status": "ok",
     "timestamp": 1618514361641,
     "user": {
      "displayName": "Cibele Russo",
      "photoUrl": "https://lh3.googleusercontent.com/a-/AOh14Gji-jMhjQu9TaA43mxVFn6ggWlzNZl0J-f8OMlZmw=s64",
      "userId": "07272141402608887263"
     },
     "user_tz": 180
    },
    "id": "WGFswn7rpgNu",
    "outputId": "eddd7ef2-593d-4bbd-932b-2515ed5a4649"
   },
   "outputs": [
    {
     "data": {
      "text/plain": [
       "'Privada'"
      ]
     },
     "execution_count": 13,
     "metadata": {},
     "output_type": "execute_result"
    }
   ],
   "source": [
    "# Moda - para a Empresa\n",
    "import statistics\n",
    "\n",
    "statistics.mode(dados['Empresa'])\n",
    "\n"
   ]
  },
  {
   "cell_type": "markdown",
   "metadata": {
    "id": "63P2oJQzpgNv"
   },
   "source": [
    "**Análise:** Na base de dados, o tipo de empresa mais comum é a empresa privada."
   ]
  },
  {
   "cell_type": "code",
   "execution_count": 14,
   "metadata": {
    "colab": {
     "base_uri": "https://localhost:8080/"
    },
    "executionInfo": {
     "elapsed": 3737,
     "status": "ok",
     "timestamp": 1618514361643,
     "user": {
      "displayName": "Cibele Russo",
      "photoUrl": "https://lh3.googleusercontent.com/a-/AOh14Gji-jMhjQu9TaA43mxVFn6ggWlzNZl0J-f8OMlZmw=s64",
      "userId": "07272141402608887263"
     },
     "user_tz": 180
    },
    "id": "5U9VEZKjpgNv",
    "outputId": "65acff5f-fab4-4be1-e180-930023cba6a4"
   },
   "outputs": [
    {
     "data": {
      "text/plain": [
       "array([21, 21, 21, ..., 55, 56, 56])"
      ]
     },
     "execution_count": 14,
     "metadata": {},
     "output_type": "execute_result"
    }
   ],
   "source": [
    "# Ordenação dos dados\n",
    "\n",
    "np.sort(dados['Idade'])"
   ]
  },
  {
   "cell_type": "code",
   "execution_count": 15,
   "metadata": {
    "colab": {
     "base_uri": "https://localhost:8080/"
    },
    "executionInfo": {
     "elapsed": 4134,
     "status": "ok",
     "timestamp": 1618514362047,
     "user": {
      "displayName": "Cibele Russo",
      "photoUrl": "https://lh3.googleusercontent.com/a-/AOh14Gji-jMhjQu9TaA43mxVFn6ggWlzNZl0J-f8OMlZmw=s64",
      "userId": "07272141402608887263"
     },
     "user_tz": 180
    },
    "id": "VQEYdvovpgNv",
    "outputId": "abdda860-c800-4d1d-8802-97a1b9b9fbb7"
   },
   "outputs": [
    {
     "data": {
      "text/plain": [
       "37.0"
      ]
     },
     "execution_count": 15,
     "metadata": {},
     "output_type": "execute_result"
    }
   ],
   "source": [
    "# Quantis de 95% e 25%\n",
    "\n",
    "np.percentile(dados['Idade'],95)"
   ]
  },
  {
   "cell_type": "code",
   "execution_count": 16,
   "metadata": {
    "colab": {
     "base_uri": "https://localhost:8080/"
    },
    "executionInfo": {
     "elapsed": 4130,
     "status": "ok",
     "timestamp": 1618514362048,
     "user": {
      "displayName": "Cibele Russo",
      "photoUrl": "https://lh3.googleusercontent.com/a-/AOh14Gji-jMhjQu9TaA43mxVFn6ggWlzNZl0J-f8OMlZmw=s64",
      "userId": "07272141402608887263"
     },
     "user_tz": 180
    },
    "id": "qi8eOZPlpgNw",
    "outputId": "3043fa4b-58dd-43c5-d8d6-f98b5827517e"
   },
   "outputs": [
    {
     "data": {
      "text/plain": [
       "30.0"
      ]
     },
     "execution_count": 16,
     "metadata": {},
     "output_type": "execute_result"
    }
   ],
   "source": [
    "np.percentile(dados['Idade'],25)"
   ]
  },
  {
   "cell_type": "code",
   "execution_count": 20,
   "metadata": {
    "colab": {
     "base_uri": "https://localhost:8080/",
     "height": 351
    },
    "executionInfo": {
     "elapsed": 4944,
     "status": "ok",
     "timestamp": 1618514362867,
     "user": {
      "displayName": "Cibele Russo",
      "photoUrl": "https://lh3.googleusercontent.com/a-/AOh14Gji-jMhjQu9TaA43mxVFn6ggWlzNZl0J-f8OMlZmw=s64",
      "userId": "07272141402608887263"
     },
     "user_tz": 180
    },
    "id": "Y3pw0lvPpgNw",
    "outputId": "c70664c7-fa31-446f-8506-dd6ccf2f6324"
   },
   "outputs": [
    {
     "data": {
      "text/plain": [
       "<matplotlib.axes._subplots.AxesSubplot at 0x7fea5aa040d0>"
      ]
     },
     "execution_count": 20,
     "metadata": {},
     "output_type": "execute_result"
    },
    {
     "data": {
      "image/png": "[encoded data removed]",
      "text/plain": [
       "<Figure size 432x288 with 1 Axes>"
      ]
     },
     "metadata": {
      "needs_background": "light"
     },
     "output_type": "display_data"
    }
   ],
   "source": [
    "sns.distplot(dados['Idade'], bins=10)"
   ]
  },
  {
   "cell_type": "markdown",
   "metadata": {
    "id": "ffNfKzPOpgNx"
   },
   "source": [
    "### Estatísticas descritivas dos dados com describe()"
   ]
  },
  {
   "cell_type": "code",
   "execution_count": 21,
   "metadata": {
    "colab": {
     "base_uri": "https://localhost:8080/",
     "height": 320
    },
    "executionInfo": {
     "elapsed": 5249,
     "status": "ok",
     "timestamp": 1618514363183,
     "user": {
      "displayName": "Cibele Russo",
      "photoUrl": "https://lh3.googleusercontent.com/a-/AOh14Gji-jMhjQu9TaA43mxVFn6ggWlzNZl0J-f8OMlZmw=s64",
      "userId": "07272141402608887263"
     },
     "user_tz": 180
    },
    "id": "o3YFIPLPpgNx",
    "outputId": "857d8b1c-0fce-40ce-c05f-753feb1360ea"
   },
   "outputs": [
    {
     "data": {
      "text/html": [
       "<div>\n",
       "<style scoped>\n",
       "    .dataframe tbody tr th:only-of-type {\n",
       "        vertical-align: middle;\n",
       "    }\n",
       "\n",
       "    .dataframe tbody tr th {\n",
       "        vertical-align: top;\n",
       "    }\n",
       "\n",
       "    .dataframe thead th {\n",
       "        text-align: right;\n",
       "    }\n",
       "</style>\n",
       "<table border=\"1\" class=\"dataframe\">\n",
       "  <thead>\n",
       "    <tr style=\"text-align: right;\">\n",
       "      <th></th>\n",
       "      <th>Cliente</th>\n",
       "      <th>Idade</th>\n",
       "      <th>Salario</th>\n",
       "      <th>Saldo_cc</th>\n",
       "      <th>Saldo_poupança</th>\n",
       "      <th>Saldo_investimento</th>\n",
       "      <th>Devedor_cartao</th>\n",
       "      <th>Inadimplente</th>\n",
       "    </tr>\n",
       "  </thead>\n",
       "  <tbody>\n",
       "    <tr>\n",
       "      <th>count</th>\n",
       "      <td>100000.000000</td>\n",
       "      <td>100000.00000</td>\n",
       "      <td>100000.000000</td>\n",
       "      <td>100000.000000</td>\n",
       "      <td>100000.000000</td>\n",
       "      <td>100000.000000</td>\n",
       "      <td>100000.000000</td>\n",
       "      <td>100000.00000</td>\n",
       "    </tr>\n",
       "    <tr>\n",
       "      <th>mean</th>\n",
       "      <td>50000.500000</td>\n",
       "      <td>31.83236</td>\n",
       "      <td>5513.453080</td>\n",
       "      <td>836.530683</td>\n",
       "      <td>2213.296334</td>\n",
       "      <td>1471.116085</td>\n",
       "      <td>2408.638706</td>\n",
       "      <td>0.24359</td>\n",
       "    </tr>\n",
       "    <tr>\n",
       "      <th>std</th>\n",
       "      <td>28867.657797</td>\n",
       "      <td>2.92772</td>\n",
       "      <td>392.083661</td>\n",
       "      <td>238.691071</td>\n",
       "      <td>5650.814769</td>\n",
       "      <td>3914.558428</td>\n",
       "      <td>1659.405630</td>\n",
       "      <td>0.42925</td>\n",
       "    </tr>\n",
       "    <tr>\n",
       "      <th>min</th>\n",
       "      <td>1.000000</td>\n",
       "      <td>21.00000</td>\n",
       "      <td>4359.000000</td>\n",
       "      <td>-280.670000</td>\n",
       "      <td>0.000000</td>\n",
       "      <td>0.000000</td>\n",
       "      <td>0.000000</td>\n",
       "      <td>0.00000</td>\n",
       "    </tr>\n",
       "    <tr>\n",
       "      <th>25%</th>\n",
       "      <td>25000.750000</td>\n",
       "      <td>30.00000</td>\n",
       "      <td>5235.000000</td>\n",
       "      <td>675.290000</td>\n",
       "      <td>0.000000</td>\n",
       "      <td>0.000000</td>\n",
       "      <td>1100.242500</td>\n",
       "      <td>0.00000</td>\n",
       "    </tr>\n",
       "    <tr>\n",
       "      <th>50%</th>\n",
       "      <td>50000.500000</td>\n",
       "      <td>32.00000</td>\n",
       "      <td>5530.000000</td>\n",
       "      <td>835.050000</td>\n",
       "      <td>0.000000</td>\n",
       "      <td>0.000000</td>\n",
       "      <td>2463.965000</td>\n",
       "      <td>0.00000</td>\n",
       "    </tr>\n",
       "    <tr>\n",
       "      <th>75%</th>\n",
       "      <td>75000.250000</td>\n",
       "      <td>34.00000</td>\n",
       "      <td>5766.000000</td>\n",
       "      <td>996.560000</td>\n",
       "      <td>0.000000</td>\n",
       "      <td>0.000000</td>\n",
       "      <td>3602.510000</td>\n",
       "      <td>0.00000</td>\n",
       "    </tr>\n",
       "    <tr>\n",
       "      <th>max</th>\n",
       "      <td>100000.000000</td>\n",
       "      <td>56.00000</td>\n",
       "      <td>9080.000000</td>\n",
       "      <td>2340.650000</td>\n",
       "      <td>27329.110000</td>\n",
       "      <td>22803.560000</td>\n",
       "      <td>10281.780000</td>\n",
       "      <td>1.00000</td>\n",
       "    </tr>\n",
       "  </tbody>\n",
       "</table>\n",
       "</div>"
      ],
      "text/plain": [
       "             Cliente         Idade        Salario       Saldo_cc  \\\n",
       "count  100000.000000  100000.00000  100000.000000  100000.000000   \n",
       "mean    50000.500000      31.83236    5513.453080     836.530683   \n",
       "std     28867.657797       2.92772     392.083661     238.691071   \n",
       "min         1.000000      21.00000    4359.000000    -280.670000   \n",
       "25%     25000.750000      30.00000    5235.000000     675.290000   \n",
       "50%     50000.500000      32.00000    5530.000000     835.050000   \n",
       "75%     75000.250000      34.00000    5766.000000     996.560000   \n",
       "max    100000.000000      56.00000    9080.000000    2340.650000   \n",
       "\n",
       "       Saldo_poupança  Saldo_investimento  Devedor_cartao  Inadimplente  \n",
       "count   100000.000000       100000.000000   100000.000000  100000.00000  \n",
       "mean      2213.296334         1471.116085     2408.638706       0.24359  \n",
       "std       5650.814769         3914.558428     1659.405630       0.42925  \n",
       "min          0.000000            0.000000        0.000000       0.00000  \n",
       "25%          0.000000            0.000000     1100.242500       0.00000  \n",
       "50%          0.000000            0.000000     2463.965000       0.00000  \n",
       "75%          0.000000            0.000000     3602.510000       0.00000  \n",
       "max      27329.110000        22803.560000    10281.780000       1.00000  "
      ]
     },
     "execution_count": 21,
     "metadata": {},
     "output_type": "execute_result"
    }
   ],
   "source": [
    "dados.describe()"
   ]
  },
  {
   "cell_type": "code",
   "execution_count": 22,
   "metadata": {
    "colab": {
     "base_uri": "https://localhost:8080/",
     "height": 300
    },
    "executionInfo": {
     "elapsed": 5246,
     "status": "ok",
     "timestamp": 1618514363184,
     "user": {
      "displayName": "Cibele Russo",
      "photoUrl": "https://lh3.googleusercontent.com/a-/AOh14Gji-jMhjQu9TaA43mxVFn6ggWlzNZl0J-f8OMlZmw=s64",
      "userId": "07272141402608887263"
     },
     "user_tz": 180
    },
    "id": "_oLixNB7pgNy",
    "outputId": "b4c7405a-6979-4e41-cb2b-1aa8f2af56f7"
   },
   "outputs": [
    {
     "data": {
      "text/html": [
       "<div>\n",
       "<style scoped>\n",
       "    .dataframe tbody tr th:only-of-type {\n",
       "        vertical-align: middle;\n",
       "    }\n",
       "\n",
       "    .dataframe tbody tr th {\n",
       "        vertical-align: top;\n",
       "    }\n",
       "\n",
       "    .dataframe thead th {\n",
       "        text-align: right;\n",
       "    }\n",
       "</style>\n",
       "<table border=\"1\" class=\"dataframe\">\n",
       "  <thead>\n",
       "    <tr style=\"text-align: right;\">\n",
       "      <th></th>\n",
       "      <th>Idade</th>\n",
       "      <th>Salario</th>\n",
       "      <th>Saldo_cc</th>\n",
       "      <th>Saldo_poupança</th>\n",
       "      <th>Saldo_investimento</th>\n",
       "      <th>Devedor_cartao</th>\n",
       "      <th>Inadimplente</th>\n",
       "    </tr>\n",
       "  </thead>\n",
       "  <tbody>\n",
       "    <tr>\n",
       "      <th>count</th>\n",
       "      <td>100000.00000</td>\n",
       "      <td>100000.000000</td>\n",
       "      <td>100000.000000</td>\n",
       "      <td>100000.000000</td>\n",
       "      <td>100000.000000</td>\n",
       "      <td>100000.000000</td>\n",
       "      <td>100000.00000</td>\n",
       "    </tr>\n",
       "    <tr>\n",
       "      <th>mean</th>\n",
       "      <td>31.83236</td>\n",
       "      <td>5513.453080</td>\n",
       "      <td>836.530683</td>\n",
       "      <td>2213.296334</td>\n",
       "      <td>1471.116085</td>\n",
       "      <td>2408.638706</td>\n",
       "      <td>0.24359</td>\n",
       "    </tr>\n",
       "    <tr>\n",
       "      <th>std</th>\n",
       "      <td>2.92772</td>\n",
       "      <td>392.083661</td>\n",
       "      <td>238.691071</td>\n",
       "      <td>5650.814769</td>\n",
       "      <td>3914.558428</td>\n",
       "      <td>1659.405630</td>\n",
       "      <td>0.42925</td>\n",
       "    </tr>\n",
       "    <tr>\n",
       "      <th>min</th>\n",
       "      <td>21.00000</td>\n",
       "      <td>4359.000000</td>\n",
       "      <td>-280.670000</td>\n",
       "      <td>0.000000</td>\n",
       "      <td>0.000000</td>\n",
       "      <td>0.000000</td>\n",
       "      <td>0.00000</td>\n",
       "    </tr>\n",
       "    <tr>\n",
       "      <th>25%</th>\n",
       "      <td>30.00000</td>\n",
       "      <td>5235.000000</td>\n",
       "      <td>675.290000</td>\n",
       "      <td>0.000000</td>\n",
       "      <td>0.000000</td>\n",
       "      <td>1100.242500</td>\n",
       "      <td>0.00000</td>\n",
       "    </tr>\n",
       "    <tr>\n",
       "      <th>50%</th>\n",
       "      <td>32.00000</td>\n",
       "      <td>5530.000000</td>\n",
       "      <td>835.050000</td>\n",
       "      <td>0.000000</td>\n",
       "      <td>0.000000</td>\n",
       "      <td>2463.965000</td>\n",
       "      <td>0.00000</td>\n",
       "    </tr>\n",
       "    <tr>\n",
       "      <th>75%</th>\n",
       "      <td>34.00000</td>\n",
       "      <td>5766.000000</td>\n",
       "      <td>996.560000</td>\n",
       "      <td>0.000000</td>\n",
       "      <td>0.000000</td>\n",
       "      <td>3602.510000</td>\n",
       "      <td>0.00000</td>\n",
       "    </tr>\n",
       "    <tr>\n",
       "      <th>max</th>\n",
       "      <td>56.00000</td>\n",
       "      <td>9080.000000</td>\n",
       "      <td>2340.650000</td>\n",
       "      <td>27329.110000</td>\n",
       "      <td>22803.560000</td>\n",
       "      <td>10281.780000</td>\n",
       "      <td>1.00000</td>\n",
       "    </tr>\n",
       "  </tbody>\n",
       "</table>\n",
       "</div>"
      ],
      "text/plain": [
       "              Idade        Salario       Saldo_cc  Saldo_poupança  \\\n",
       "count  100000.00000  100000.000000  100000.000000   100000.000000   \n",
       "mean       31.83236    5513.453080     836.530683     2213.296334   \n",
       "std         2.92772     392.083661     238.691071     5650.814769   \n",
       "min        21.00000    4359.000000    -280.670000        0.000000   \n",
       "25%        30.00000    5235.000000     675.290000        0.000000   \n",
       "50%        32.00000    5530.000000     835.050000        0.000000   \n",
       "75%        34.00000    5766.000000     996.560000        0.000000   \n",
       "max        56.00000    9080.000000    2340.650000    27329.110000   \n",
       "\n",
       "       Saldo_investimento  Devedor_cartao  Inadimplente  \n",
       "count       100000.000000   100000.000000  100000.00000  \n",
       "mean          1471.116085     2408.638706       0.24359  \n",
       "std           3914.558428     1659.405630       0.42925  \n",
       "min              0.000000        0.000000       0.00000  \n",
       "25%              0.000000     1100.242500       0.00000  \n",
       "50%              0.000000     2463.965000       0.00000  \n",
       "75%              0.000000     3602.510000       0.00000  \n",
       "max          22803.560000    10281.780000       1.00000  "
      ]
     },
     "execution_count": 22,
     "metadata": {},
     "output_type": "execute_result"
    }
   ],
   "source": [
    "dados.loc[:,dados.columns != 'Cliente'].describe()"
   ]
  },
  {
   "cell_type": "markdown",
   "metadata": {
    "id": "1UqS3IqzpgNz"
   },
   "source": [
    "### Gráfico de setores (pizza)\n",
    "\n",
    "- https://blog.algorexhealth.com/2018/03/almost-10-pie-charts-in-10-python-libraries/\n",
    "\n"
   ]
  },
  {
   "cell_type": "code",
   "execution_count": 23,
   "metadata": {
    "colab": {
     "base_uri": "https://localhost:8080/",
     "height": 144
    },
    "executionInfo": {
     "elapsed": 5254,
     "status": "ok",
     "timestamp": 1618514363182,
     "user": {
      "displayName": "Cibele Russo",
      "photoUrl": "https://lh3.googleusercontent.com/a-/AOh14Gji-jMhjQu9TaA43mxVFn6ggWlzNZl0J-f8OMlZmw=s64",
      "userId": "07272141402608887263"
     },
     "user_tz": 180
    },
    "id": "FrQ8PC-dpgNw",
    "outputId": "f31555f4-8461-4de5-e14e-d68e4ce68b2e"
   },
   "outputs": [
    {
     "data": {
      "text/html": [
       "<div>\n",
       "<style scoped>\n",
       "    .dataframe tbody tr th:only-of-type {\n",
       "        vertical-align: middle;\n",
       "    }\n",
       "\n",
       "    .dataframe tbody tr th {\n",
       "        vertical-align: top;\n",
       "    }\n",
       "\n",
       "    .dataframe thead th {\n",
       "        text-align: right;\n",
       "    }\n",
       "</style>\n",
       "<table border=\"1\" class=\"dataframe\">\n",
       "  <thead>\n",
       "    <tr style=\"text-align: right;\">\n",
       "      <th>col_0</th>\n",
       "      <th>count</th>\n",
       "    </tr>\n",
       "    <tr>\n",
       "      <th>Sexo</th>\n",
       "      <th></th>\n",
       "    </tr>\n",
       "  </thead>\n",
       "  <tbody>\n",
       "    <tr>\n",
       "      <th>F</th>\n",
       "      <td>0.41845</td>\n",
       "    </tr>\n",
       "    <tr>\n",
       "      <th>M</th>\n",
       "      <td>0.58155</td>\n",
       "    </tr>\n",
       "  </tbody>\n",
       "</table>\n",
       "</div>"
      ],
      "text/plain": [
       "col_0    count\n",
       "Sexo          \n",
       "F      0.41845\n",
       "M      0.58155"
      ]
     },
     "execution_count": 23,
     "metadata": {},
     "output_type": "execute_result"
    }
   ],
   "source": [
    "tab1 = pd.crosstab(index=dados['Sexo'], columns='count')\n",
    "tab1/tab1.sum()"
   ]
  },
  {
   "cell_type": "code",
   "execution_count": 24,
   "metadata": {
    "colab": {
     "base_uri": "https://localhost:8080/",
     "height": 175
    },
    "executionInfo": {
     "elapsed": 5241,
     "status": "ok",
     "timestamp": 1618514363185,
     "user": {
      "displayName": "Cibele Russo",
      "photoUrl": "https://lh3.googleusercontent.com/a-/AOh14Gji-jMhjQu9TaA43mxVFn6ggWlzNZl0J-f8OMlZmw=s64",
      "userId": "07272141402608887263"
     },
     "user_tz": 180
    },
    "id": "lIoXrRxRpgNz",
    "outputId": "719ec36c-a3fe-452c-d4f6-7dbbfb2ee273"
   },
   "outputs": [
    {
     "data": {
      "text/html": [
       "<div>\n",
       "<style scoped>\n",
       "    .dataframe tbody tr th:only-of-type {\n",
       "        vertical-align: middle;\n",
       "    }\n",
       "\n",
       "    .dataframe tbody tr th {\n",
       "        vertical-align: top;\n",
       "    }\n",
       "\n",
       "    .dataframe thead th {\n",
       "        text-align: right;\n",
       "    }\n",
       "</style>\n",
       "<table border=\"1\" class=\"dataframe\">\n",
       "  <thead>\n",
       "    <tr style=\"text-align: right;\">\n",
       "      <th>col_0</th>\n",
       "      <th>count</th>\n",
       "    </tr>\n",
       "    <tr>\n",
       "      <th>Sexo</th>\n",
       "      <th></th>\n",
       "    </tr>\n",
       "  </thead>\n",
       "  <tbody>\n",
       "    <tr>\n",
       "      <th>F</th>\n",
       "      <td>41845</td>\n",
       "    </tr>\n",
       "    <tr>\n",
       "      <th>M</th>\n",
       "      <td>58155</td>\n",
       "    </tr>\n",
       "  </tbody>\n",
       "</table>\n",
       "</div>"
      ],
      "text/plain": [
       "col_0  count\n",
       "Sexo        \n",
       "F      41845\n",
       "M      58155"
      ]
     },
     "execution_count": 24,
     "metadata": {},
     "output_type": "execute_result"
    }
   ],
   "source": [
    "tab1"
   ]
  },
  {
   "cell_type": "code",
   "execution_count": 25,
   "metadata": {
    "colab": {
     "base_uri": "https://localhost:8080/",
     "height": 248
    },
    "executionInfo": {
     "elapsed": 5237,
     "status": "ok",
     "timestamp": 1618514363186,
     "user": {
      "displayName": "Cibele Russo",
      "photoUrl": "https://lh3.googleusercontent.com/a-/AOh14Gji-jMhjQu9TaA43mxVFn6ggWlzNZl0J-f8OMlZmw=s64",
      "userId": "07272141402608887263"
     },
     "user_tz": 180
    },
    "id": "1dzuNAOVpgN0",
    "outputId": "c32cd3da-7f4d-484c-dc5a-8977baad4df2"
   },
   "outputs": [
    {
     "data": {
      "image/png": "[encoded data removed]",
      "text/plain": [
       "<Figure size 432x288 with 1 Axes>"
      ]
     },
     "metadata": {},
     "output_type": "display_data"
    }
   ],
   "source": [
    "plot = tab1.plot.pie(y='count')"
   ]
  },
  {
   "cell_type": "code",
   "execution_count": 28,
   "metadata": {
    "colab": {
     "base_uri": "https://localhost:8080/",
     "height": 144
    },
    "executionInfo": {
     "elapsed": 5652,
     "status": "ok",
     "timestamp": 1618514363605,
     "user": {
      "displayName": "Cibele Russo",
      "photoUrl": "https://lh3.googleusercontent.com/a-/AOh14Gji-jMhjQu9TaA43mxVFn6ggWlzNZl0J-f8OMlZmw=s64",
      "userId": "07272141402608887263"
     },
     "user_tz": 180
    },
    "id": "QBpVoYQOpgN2",
    "outputId": "132bfb8c-f289-4363-99fa-ad25031fcd93"
   },
   "outputs": [
    {
     "data": {
      "text/html": [
       "<div>\n",
       "<style scoped>\n",
       "    .dataframe tbody tr th:only-of-type {\n",
       "        vertical-align: middle;\n",
       "    }\n",
       "\n",
       "    .dataframe tbody tr th {\n",
       "        vertical-align: top;\n",
       "    }\n",
       "\n",
       "    .dataframe thead th {\n",
       "        text-align: right;\n",
       "    }\n",
       "</style>\n",
       "<table border=\"1\" class=\"dataframe\">\n",
       "  <thead>\n",
       "    <tr style=\"text-align: right;\">\n",
       "      <th>col_0</th>\n",
       "      <th>count</th>\n",
       "    </tr>\n",
       "    <tr>\n",
       "      <th>Sexo</th>\n",
       "      <th></th>\n",
       "    </tr>\n",
       "  </thead>\n",
       "  <tbody>\n",
       "    <tr>\n",
       "      <th>F</th>\n",
       "      <td>41845</td>\n",
       "    </tr>\n",
       "    <tr>\n",
       "      <th>M</th>\n",
       "      <td>58155</td>\n",
       "    </tr>\n",
       "  </tbody>\n",
       "</table>\n",
       "</div>"
      ],
      "text/plain": [
       "col_0  count\n",
       "Sexo        \n",
       "F      41845\n",
       "M      58155"
      ]
     },
     "execution_count": 28,
     "metadata": {},
     "output_type": "execute_result"
    }
   ],
   "source": [
    "# Tabela de frequências absolutas\n",
    "\n",
    "tab1 = pd.crosstab(index=dados['Sexo'], columns='count')\n",
    "\n",
    "tab1"
   ]
  },
  {
   "cell_type": "code",
   "execution_count": 29,
   "metadata": {
    "colab": {
     "base_uri": "https://localhost:8080/",
     "height": 248
    },
    "executionInfo": {
     "elapsed": 5645,
     "status": "ok",
     "timestamp": 1618514363606,
     "user": {
      "displayName": "Cibele Russo",
      "photoUrl": "https://lh3.googleusercontent.com/a-/AOh14Gji-jMhjQu9TaA43mxVFn6ggWlzNZl0J-f8OMlZmw=s64",
      "userId": "07272141402608887263"
     },
     "user_tz": 180
    },
    "id": "DtRuD6-8pgN2",
    "outputId": "d841b07b-fd73-4e3a-fd03-032106717193"
   },
   "outputs": [
    {
     "data": {
      "image/png": "[encoded data removed]",
      "text/plain": [
       "<Figure size 432x288 with 1 Axes>"
      ]
     },
     "metadata": {},
     "output_type": "display_data"
    }
   ],
   "source": [
    "plot = tab1.plot.pie(y='count')"
   ]
  },
  {
   "cell_type": "markdown",
   "metadata": {
    "id": "NSWCSBljpgN2"
   },
   "source": [
    "### Gráfico de barras"
   ]
  },
  {
   "cell_type": "code",
   "execution_count": 31,
   "metadata": {
    "colab": {
     "base_uri": "https://localhost:8080/",
     "height": 278
    },
    "executionInfo": {
     "elapsed": 5642,
     "status": "ok",
     "timestamp": 1618514363608,
     "user": {
      "displayName": "Cibele Russo",
      "photoUrl": "https://lh3.googleusercontent.com/a-/AOh14Gji-jMhjQu9TaA43mxVFn6ggWlzNZl0J-f8OMlZmw=s64",
      "userId": "07272141402608887263"
     },
     "user_tz": 180
    },
    "id": "L_YnmBOHpgN3",
    "outputId": "e3319adb-ba38-4c72-c72e-d3e436af64c5"
   },
   "outputs": [
    {
     "data": {
      "image/png": "[encoded data removed]",
      "text/plain": [
       "<Figure size 432x288 with 1 Axes>"
      ]
     },
     "metadata": {
      "needs_background": "light"
     },
     "output_type": "display_data"
    }
   ],
   "source": [
    "tab1.plot.bar()\n",
    "plt.legend(title='Sexo')\n",
    "\n",
    "plt.show()"
   ]
  },
  {
   "cell_type": "markdown",
   "metadata": {
    "id": "tWGYJyoMpgN4"
   },
   "source": [
    "### Boxplot\n",
    "\n",
    "- Posição\n",
    "- Dispersão\n",
    "- Outliers\n",
    "- Assimetria\n",
    "\n",
    "https://seaborn.pydata.org/generated/seaborn.boxplot.html\n",
    "\n"
   ]
  },
  {
   "cell_type": "code",
   "execution_count": 33,
   "metadata": {
    "colab": {
     "base_uri": "https://localhost:8080/",
     "height": 296
    },
    "executionInfo": {
     "elapsed": 6018,
     "status": "ok",
     "timestamp": 1618514363989,
     "user": {
      "displayName": "Cibele Russo",
      "photoUrl": "https://lh3.googleusercontent.com/a-/AOh14Gji-jMhjQu9TaA43mxVFn6ggWlzNZl0J-f8OMlZmw=s64",
      "userId": "07272141402608887263"
     },
     "user_tz": 180
    },
    "id": "vX7X-MUqpgN4",
    "outputId": "0d1abfdb-e442-41eb-ae90-479b32130436"
   },
   "outputs": [
    {
     "data": {
      "text/plain": [
       "<matplotlib.axes._subplots.AxesSubplot at 0x7fea5a66a410>"
      ]
     },
     "execution_count": 33,
     "metadata": {},
     "output_type": "execute_result"
    },
    {
     "data": {
      "image/png": "[encoded data removed]",
      "text/plain": [
       "<Figure size 432x288 with 1 Axes>"
      ]
     },
     "metadata": {
      "needs_background": "light"
     },
     "output_type": "display_data"
    }
   ],
   "source": [
    "sns.boxplot(x=dados['Salario'],orient='v')"
   ]
  },
  {
   "cell_type": "markdown",
   "metadata": {
    "id": "6cxS74qhpgN5"
   },
   "source": [
    "**Histograma**"
   ]
  },
  {
   "cell_type": "code",
   "execution_count": 34,
   "metadata": {
    "colab": {
     "base_uri": "https://localhost:8080/",
     "height": 351
    },
    "executionInfo": {
     "elapsed": 6015,
     "status": "ok",
     "timestamp": 1618514363990,
     "user": {
      "displayName": "Cibele Russo",
      "photoUrl": "https://lh3.googleusercontent.com/a-/AOh14Gji-jMhjQu9TaA43mxVFn6ggWlzNZl0J-f8OMlZmw=s64",
      "userId": "07272141402608887263"
     },
     "user_tz": 180
    },
    "id": "Dn_x1Tp1pgN5",
    "outputId": "0e38be47-9678-498d-d36b-13da65552afc",
    "scrolled": true
   },
   "outputs": [
    {
     "data": {
      "text/plain": [
       "<matplotlib.axes._subplots.AxesSubplot at 0x7fea5a64f1d0>"
      ]
     },
     "execution_count": 34,
     "metadata": {},
     "output_type": "execute_result"
    },
    {
     "data": {
      "image/png": "[encoded data removed]",
      "text/plain": [
       "<Figure size 432x288 with 1 Axes>"
      ]
     },
     "metadata": {
      "needs_background": "light"
     },
     "output_type": "display_data"
    }
   ],
   "source": [
    "sns.distplot(dados['Salario'],kde=False, bins=10)"
   ]
  },
  {
   "cell_type": "code",
   "execution_count": 35,
   "metadata": {
    "colab": {
     "base_uri": "https://localhost:8080/",
     "height": 355
    },
    "executionInfo": {
     "elapsed": 7131,
     "status": "ok",
     "timestamp": 1618514365111,
     "user": {
      "displayName": "Cibele Russo",
      "photoUrl": "https://lh3.googleusercontent.com/a-/AOh14Gji-jMhjQu9TaA43mxVFn6ggWlzNZl0J-f8OMlZmw=s64",
      "userId": "07272141402608887263"
     },
     "user_tz": 180
    },
    "id": "u2PXJTc4pgN5",
    "outputId": "23fc9acd-033e-4ea5-dcef-e6634a9bfefa"
   },
   "outputs": [
    {
     "data": {
      "text/plain": [
       "<matplotlib.axes._subplots.AxesSubplot at 0x7fea5a5d6dd0>"
      ]
     },
     "execution_count": 35,
     "metadata": {},
     "output_type": "execute_result"
    },
    {
     "data": {
      "image/png": "[encoded data removed]",
      "text/plain": [
       "<Figure size 432x288 with 1 Axes>"
      ]
     },
     "metadata": {
      "needs_background": "light"
     },
     "output_type": "display_data"
    }
   ],
   "source": [
    "sns.distplot(dados['Salario'])"
   ]
  },
  {
   "cell_type": "code",
   "execution_count": 36,
   "metadata": {
    "colab": {
     "base_uri": "https://localhost:8080/",
     "height": 355
    },
    "executionInfo": {
     "elapsed": 8058,
     "status": "ok",
     "timestamp": 1618514366042,
     "user": {
      "displayName": "Cibele Russo",
      "photoUrl": "https://lh3.googleusercontent.com/a-/AOh14Gji-jMhjQu9TaA43mxVFn6ggWlzNZl0J-f8OMlZmw=s64",
      "userId": "07272141402608887263"
     },
     "user_tz": 180
    },
    "id": "kPgHbaIapgN6",
    "outputId": "669453f4-7de5-4264-dd08-23a859542f5c"
   },
   "outputs": [
    {
     "data": {
      "text/plain": [
       "<matplotlib.axes._subplots.AxesSubplot at 0x7fea5a4d2450>"
      ]
     },
     "execution_count": 36,
     "metadata": {},
     "output_type": "execute_result"
    },
    {
     "data": {
      "image/png": "[encoded data removed]",
      "text/plain": [
       "<Figure size 432x288 with 1 Axes>"
      ]
     },
     "metadata": {
      "needs_background": "light"
     },
     "output_type": "display_data"
    }
   ],
   "source": [
    "sns.distplot(dados['Salario'], bins=10)"
   ]
  },
  {
   "cell_type": "markdown",
   "metadata": {
    "id": "shd1zeJEpgN6"
   },
   "source": [
    "**Densidade alisada**"
   ]
  },
  {
   "cell_type": "code",
   "execution_count": 37,
   "metadata": {
    "colab": {
     "base_uri": "https://localhost:8080/",
     "height": 355
    },
    "executionInfo": {
     "elapsed": 9280,
     "status": "ok",
     "timestamp": 1618514367269,
     "user": {
      "displayName": "Cibele Russo",
      "photoUrl": "https://lh3.googleusercontent.com/a-/AOh14Gji-jMhjQu9TaA43mxVFn6ggWlzNZl0J-f8OMlZmw=s64",
      "userId": "07272141402608887263"
     },
     "user_tz": 180
    },
    "id": "6h0ObSxBpgN6",
    "outputId": "954494ae-194a-4de5-9308-d237114d80fb"
   },
   "outputs": [
    {
     "data": {
      "text/plain": [
       "<matplotlib.axes._subplots.AxesSubplot at 0x7fea5a456990>"
      ]
     },
     "execution_count": 37,
     "metadata": {},
     "output_type": "execute_result"
    },
    {
     "data": {
      "image/png": "[encoded data removed]",
      "text/plain": [
       "<Figure size 432x288 with 1 Axes>"
      ]
     },
     "metadata": {
      "needs_background": "light"
     },
     "output_type": "display_data"
    }
   ],
   "source": [
    "sns.distplot(dados['Salario'], hist=False)"
   ]
  },
  {
   "cell_type": "markdown",
   "metadata": {
    "id": "POudmh5XpgN7"
   },
   "source": [
    "### Boxplots por grupos"
   ]
  },
  {
   "cell_type": "code",
   "execution_count": 41,
   "metadata": {
    "colab": {
     "base_uri": "https://localhost:8080/",
     "height": 312
    },
    "executionInfo": {
     "elapsed": 16462,
     "status": "ok",
     "timestamp": 1618514374514,
     "user": {
      "displayName": "Cibele Russo",
      "photoUrl": "https://lh3.googleusercontent.com/a-/AOh14Gji-jMhjQu9TaA43mxVFn6ggWlzNZl0J-f8OMlZmw=s64",
      "userId": "07272141402608887263"
     },
     "user_tz": 180
    },
    "id": "HOzusxbSpgOB",
    "outputId": "f039d4ad-a938-43d4-9af9-8ea5d35a93eb"
   },
   "outputs": [
    {
     "data": {
      "text/plain": [
       "Text(0, 0.5, 'Salário')"
      ]
     },
     "execution_count": 41,
     "metadata": {},
     "output_type": "execute_result"
    },
    {
     "data": {
      "image/png": "[encoded data removed]",
      "text/plain": [
       "<Figure size 576x288 with 1 Axes>"
      ]
     },
     "metadata": {
      "needs_background": "light"
     },
     "output_type": "display_data"
    }
   ],
   "source": [
    "# Salário médio por tipo de empresa\n",
    "\n",
    "\n",
    "# Estabelecendo o tamanho do gráfico\n",
    "plt.figure(figsize=(8,4))\n",
    "\n",
    "# Título\n",
    "plt.title(\"Salário médio por tipo de empresa\")\n",
    "\n",
    "# Gráfico de barras com salário médio por tipo de empresa\n",
    "sns.boxplot(x=dados['Empresa'], y=dados['Salario'])\n",
    "\n",
    "# Label para eixo vertical\n",
    "plt.ylabel(\"Salário\")\n",
    "\n"
   ]
  },
  {
   "cell_type": "markdown",
   "metadata": {},
   "source": [
    "## Medidas de posição e assimetria dos dados"
   ]
  },
  {
   "cell_type": "code",
   "execution_count": 42,
   "metadata": {
    "colab": {
     "base_uri": "https://localhost:8080/",
     "height": 368
    },
    "executionInfo": {
     "elapsed": 1786,
     "status": "ok",
     "timestamp": 1618514359564,
     "user": {
      "displayName": "Cibele Russo",
      "photoUrl": "https://lh3.googleusercontent.com/a-/AOh14Gji-jMhjQu9TaA43mxVFn6ggWlzNZl0J-f8OMlZmw=s64",
      "userId": "07272141402608887263"
     },
     "user_tz": 180
    },
    "id": "zGJjujpPpgNa",
    "outputId": "d2318dd9-a62d-4b4b-c8e5-4313cdb4a1b5",
    "scrolled": true
   },
   "outputs": [
    {
     "data": {
      "image/png": "[encoded data removed]",
      "text/plain": [
       "<Figure size 432x288 with 2 Axes>"
      ]
     },
     "metadata": {
      "needs_background": "light"
     },
     "output_type": "display_data"
    }
   ],
   "source": [
    "# Ilustração das medidas média, moda, mediana para dados simétricos\n",
    "# Adaptado de https://stackoverflow.com/questions/51417483/mean-median-mode-lines-showing-only-in-last-graph-in-seaborn/51417635\n",
    "\n",
    "\n",
    "df = pd.DataFrame({\" rating\": [2, 4, 4, 5, 5, 5, 5, 6, 6, 8 ], \"dummy\": range(10)})\n",
    "\n",
    "f, (ax_box, ax_hist) = plt.subplots(2, sharex=True, gridspec_kw= {\"height_ratios\": (0.2, 1)})\n",
    "mean=df[' rating'].mean()\n",
    "median=df[' rating'].median()\n",
    "mode = statistics.mode(df[' rating'])\n",
    "\n",
    "sns.boxplot(df[\" rating\"], ax=ax_box)\n",
    "ax_box.axvline(mean, color='r', linestyle='--')\n",
    "ax_box.axvline(median, color='g', linestyle='-')\n",
    "ax_box.axvline(mode, color='b', linestyle='-')\n",
    "\n",
    "sns.distplot(df[\" rating\"], ax=ax_hist)\n",
    "ax_hist.axvline(mean, color='r', linestyle='--', label='Média')\n",
    "ax_hist.axvline(median, color='g', linestyle='-', label='Mediana')\n",
    "ax_hist.axvline(mode, color='b', linestyle='-', label='Moda')\n",
    "\n",
    "\n",
    "plt.legend()\n",
    "\n",
    "\n",
    "ax_box.set(xlabel='')\n",
    "plt.show()"
   ]
  },
  {
   "cell_type": "code",
   "execution_count": 43,
   "metadata": {
    "colab": {
     "base_uri": "https://localhost:8080/",
     "height": 368
    },
    "executionInfo": {
     "elapsed": 2436,
     "status": "ok",
     "timestamp": 1618514360227,
     "user": {
      "displayName": "Cibele Russo",
      "photoUrl": "https://lh3.googleusercontent.com/a-/AOh14Gji-jMhjQu9TaA43mxVFn6ggWlzNZl0J-f8OMlZmw=s64",
      "userId": "07272141402608887263"
     },
     "user_tz": 180
    },
    "id": "9yhDkV4opgNe",
    "outputId": "c1c08e51-00f6-4029-a168-e5051f7e5ec7"
   },
   "outputs": [
    {
     "data": {
      "image/png": "[encoded data removed]",
      "text/plain": [
       "<Figure size 432x288 with 2 Axes>"
      ]
     },
     "metadata": {
      "needs_background": "light"
     },
     "output_type": "display_data"
    }
   ],
   "source": [
    "# Ilustração das medidas média, moda, mediana para dados assimétricos à esquerda ou com assimetria negativa\n",
    "# Adaptado de: https://stackoverflow.com/questions/51417483/mean-median-mode-lines-showing-only-in-last-graph-in-seaborn/51417635\n",
    "\n",
    "\n",
    "from matplotlib import pyplot as plt\n",
    "import pandas as pd\n",
    "import seaborn as sns\n",
    "import statistics\n",
    "\n",
    "df = pd.DataFrame({\" rating\": [1, 4, 6, 6,  7, 10, 10, 10, 10, 10], \"dummy\": range(10)})\n",
    "\n",
    "f, (ax_box, ax_hist) = plt.subplots(2, sharex=True, gridspec_kw= {\"height_ratios\": (0.2, 1)})\n",
    "mean=df[' rating'].mean()\n",
    "median=df[' rating'].median()\n",
    "mode = statistics.mode(df[' rating'])\n",
    "\n",
    "sns.boxplot(df[\" rating\"], ax=ax_box)\n",
    "ax_box.axvline(mean, color='r', linestyle='--')\n",
    "ax_box.axvline(median, color='g', linestyle='-')\n",
    "ax_box.axvline(mode, color='b', linestyle='-')\n",
    "\n",
    "\n",
    "sns.distplot(df[\" rating\"], ax=ax_hist)\n",
    "ax_hist.axvline(mean, color='r', linestyle='--', label='Média')\n",
    "ax_hist.axvline(median, color='g', linestyle='-', label='Mediana')\n",
    "ax_hist.axvline(mode, color='b', linestyle='-', label='Moda')\n",
    "\n",
    "plt.legend()\n",
    "\n",
    "\n",
    "ax_box.set(xlabel='')\n",
    "plt.show()"
   ]
  },
  {
   "cell_type": "code",
   "execution_count": 44,
   "metadata": {
    "colab": {
     "base_uri": "https://localhost:8080/",
     "height": 368
    },
    "executionInfo": {
     "elapsed": 3266,
     "status": "ok",
     "timestamp": 1618514361069,
     "user": {
      "displayName": "Cibele Russo",
      "photoUrl": "https://lh3.googleusercontent.com/a-/AOh14Gji-jMhjQu9TaA43mxVFn6ggWlzNZl0J-f8OMlZmw=s64",
      "userId": "07272141402608887263"
     },
     "user_tz": 180
    },
    "id": "uq6ngft-pgNf",
    "outputId": "ad10d8a0-739c-4329-94e9-b6c1d82c918e"
   },
   "outputs": [
    {
     "data": {
      "image/png": "[encoded data removed]",
      "text/plain": [
       "<Figure size 432x288 with 2 Axes>"
      ]
     },
     "metadata": {
      "needs_background": "light"
     },
     "output_type": "display_data"
    }
   ],
   "source": [
    "# Ilustração das medidas média, moda, mediana para dados assimétricos à direita ou com assimetria positiva\n",
    "# Adaptado de: https://stackoverflow.com/questions/51417483/mean-median-mode-lines-showing-only-in-last-graph-in-seaborn/51417635\n",
    "\n",
    "\n",
    "from matplotlib import pyplot as plt\n",
    "import pandas as pd\n",
    "import seaborn as sns\n",
    "import statistics\n",
    "\n",
    "df = pd.DataFrame({\" rating\": [1, 1, 1, 1, 2, 2, 3, 4, 5, 6], \"dummy\": range(10)})\n",
    "\n",
    "f, (ax_box, ax_hist) = plt.subplots(2, sharex=True, gridspec_kw= {\"height_ratios\": (0.2, 1)})\n",
    "mean=df[' rating'].mean()\n",
    "median=df[' rating'].median()\n",
    "mode = statistics.mode(df[' rating'])\n",
    "\n",
    "sns.boxplot(df[\" rating\"], ax=ax_box)\n",
    "ax_box.axvline(mean, color='r', linestyle='--')\n",
    "ax_box.axvline(median, color='g', linestyle='-')\n",
    "ax_box.axvline(mode, color='b', linestyle='-')\n",
    "\n",
    "sns.distplot(df[\" rating\"], ax=ax_hist)\n",
    "ax_hist.axvline(mean, color='r', linestyle='--', label='Média')\n",
    "ax_hist.axvline(median, color='g', linestyle='-', label='Mediana')\n",
    "ax_hist.axvline(mode, color='b', linestyle='-', label='Moda')\n",
    "\n",
    "plt.legend()\n",
    "\n",
    "ax_box.set(xlabel='')\n",
    "plt.show()"
   ]
  },
  {
   "cell_type": "markdown",
   "metadata": {
    "id": "GC3eCa9NpgNg"
   },
   "source": [
    "### Curtose\n",
    "\n",
    "\n"
   ]
  },
  {
   "cell_type": "code",
   "execution_count": 45,
   "metadata": {
    "colab": {
     "base_uri": "https://localhost:8080/"
    },
    "executionInfo": {
     "elapsed": 3256,
     "status": "ok",
     "timestamp": 1618514361072,
     "user": {
      "displayName": "Cibele Russo",
      "photoUrl": "https://lh3.googleusercontent.com/a-/AOh14Gji-jMhjQu9TaA43mxVFn6ggWlzNZl0J-f8OMlZmw=s64",
      "userId": "07272141402608887263"
     },
     "user_tz": 180
    },
    "id": "yQUNjzZfpgNg",
    "outputId": "c8aab2f6-bc2b-48d3-dc4e-892291fdcf52"
   },
   "outputs": [
    {
     "data": {
      "text/plain": [
       "-0.008576298023018403"
      ]
     },
     "execution_count": 45,
     "metadata": {},
     "output_type": "execute_result"
    }
   ],
   "source": [
    "from scipy.stats import norm, kurtosis\n",
    "\n",
    "data = norm.rvs(size=100000)\n",
    "\n",
    "kurtosis(data)\n"
   ]
  },
  {
   "cell_type": "code",
   "execution_count": 46,
   "metadata": {
    "colab": {
     "base_uri": "https://localhost:8080/",
     "height": 265
    },
    "executionInfo": {
     "elapsed": 3248,
     "status": "ok",
     "timestamp": 1618514361073,
     "user": {
      "displayName": "Cibele Russo",
      "photoUrl": "https://lh3.googleusercontent.com/a-/AOh14Gji-jMhjQu9TaA43mxVFn6ggWlzNZl0J-f8OMlZmw=s64",
      "userId": "07272141402608887263"
     },
     "user_tz": 180
    },
    "id": "Br6G9JBtpgNh",
    "outputId": "e42067ff-016f-4091-ec53-608dcdaae997"
   },
   "outputs": [
    {
     "data": {
      "image/png": "[encoded data removed]",
      "text/plain": [
       "<Figure size 432x288 with 1 Axes>"
      ]
     },
     "metadata": {
      "needs_background": "light"
     },
     "output_type": "display_data"
    }
   ],
   "source": [
    "# Referência: https://docs.scipy.org/doc/scipy/reference/generated/scipy.stats.kurtosis.html\n",
    "\n",
    "import matplotlib.pyplot as plt\n",
    "import scipy.stats as stats\n",
    "from scipy.stats import kurtosis\n",
    "import numpy as np\n",
    "\n",
    "\n",
    "x = np.linspace(-5, 5, 100)\n",
    "ax = plt.subplot()\n",
    "distnames = ['laplace', 'norm', 'uniform']\n",
    "\n",
    "\n",
    "\n",
    "for distname in distnames:\n",
    "    if distname == 'uniform':\n",
    "        dist = getattr(stats, distname)(loc=-2, scale=4)\n",
    "    else:\n",
    "        dist = getattr(stats, distname)\n",
    "    data = dist.rvs(size=1000)\n",
    "    kur = kurtosis(data, fisher=True)\n",
    "    y = dist.pdf(x)\n",
    "    ax.plot(x, y, label=\"{}, {}\".format(distname, round(kur, 3)))\n",
    "    ax.legend()\n",
    "    \n",
    "    \n",
    "    \n",
    "# Normal: mesocúrtica\n",
    "# Laplace: leptocúrtica\n",
    "# Uniforme: platicúrtica"
   ]
  },
  {
   "cell_type": "code",
   "execution_count": null,
   "metadata": {},
   "outputs": [],
   "source": []
  }
 ],
 "metadata": {
  "colab": {
   "collapsed_sections": [
    "8o-JyjQLpgNl",
    "zmF_eJCGpgNo"
   ],
   "name": "ECD-01-Material base - Visualização de dados.ipynb",
   "provenance": [],
   "toc_visible": true
  },
  "kernelspec": {
   "display_name": "Python 3",
   "language": "python",
   "name": "python3"
  },
  "language_info": {
   "codemirror_mode": {
    "name": "ipython",
    "version": 3
   },
   "file_extension": ".py",
   "mimetype": "text/x-python",
   "name": "python",
   "nbconvert_exporter": "python",
   "pygments_lexer": "ipython3",
   "version": "3.7.6"
  },
  "widgets": {
   "application/vnd.jupyter.widget-state+json": {
    "12bb4bb32aa74bf7a636bea757e424fd": {
     "model_module": "@jupyter-widgets/controls",
     "model_name": "ProgressStyleModel",
     "state": {
      "_model_module": "@jupyter-widgets/controls",
      "_model_module_version": "1.5.0",
      "_model_name": "ProgressStyleModel",
      "_view_count": null,
      "_view_module": "@jupyter-widgets/base",
      "_view_module_version": "1.2.0",
      "_view_name": "StyleView",
      "bar_color": null,
      "description_width": ""
     }
    },
    "28ec056a6ef44cdca59b6af57e4547ef": {
     "model_module": "@jupyter-widgets/controls",
     "model_name": "HBoxModel",
     "state": {
      "_dom_classes": [],
      "_model_module": "@jupyter-widgets/controls",
      "_model_module_version": "1.5.0",
      "_model_name": "HBoxModel",
      "_view_count": null,
      "_view_module": "@jupyter-widgets/controls",
      "_view_module_version": "1.5.0",
      "_view_name": "HBoxView",
      "box_style": "",
      "children": [
       "IPY_MODEL_55538afef7af477aa08d315a77d58f89",
       "IPY_MODEL_be65d61ff842471f8afcd4bd19440277",
       "IPY_MODEL_be6da7395cfd4ac090ed18f44622c39c"
      ],
      "layout": "IPY_MODEL_b5a86d6fbfe247d6ae126bda5b2b047c"
     }
    },
    "4be4c9aca3c54ebd867403b252dde372": {
     "model_module": "@jupyter-widgets/base",
     "model_name": "LayoutModel",
     "state": {
      "_model_module": "@jupyter-widgets/base",
      "_model_module_version": "1.2.0",
      "_model_name": "LayoutModel",
      "_view_count": null,
      "_view_module": "@jupyter-widgets/base",
      "_view_module_version": "1.2.0",
      "_view_name": "LayoutView",
      "align_content": null,
      "align_items": null,
      "align_self": null,
      "border": null,
      "bottom": null,
      "display": null,
      "flex": null,
      "flex_flow": null,
      "grid_area": null,
      "grid_auto_columns": null,
      "grid_auto_flow": null,
      "grid_auto_rows": null,
      "grid_column": null,
      "grid_gap": null,
      "grid_row": null,
      "grid_template_areas": null,
      "grid_template_columns": null,
      "grid_template_rows": null,
      "height": null,
      "justify_content": null,
      "justify_items": null,
      "left": null,
      "margin": null,
      "max_height": null,
      "max_width": null,
      "min_height": null,
      "min_width": null,
      "object_fit": null,
      "object_position": null,
      "order": null,
      "overflow": null,
      "overflow_x": null,
      "overflow_y": null,
      "padding": null,
      "right": null,
      "top": null,
      "visibility": null,
      "width": null
     }
    },
    "4f5cd3fe1e02417b806d19456f727ea7": {
     "model_module": "@jupyter-widgets/base",
     "model_name": "LayoutModel",
     "state": {
      "_model_module": "@jupyter-widgets/base",
      "_model_module_version": "1.2.0",
      "_model_name": "LayoutModel",
      "_view_count": null,
      "_view_module": "@jupyter-widgets/base",
      "_view_module_version": "1.2.0",
      "_view_name": "LayoutView",
      "align_content": null,
      "align_items": null,
      "align_self": null,
      "border": null,
      "bottom": null,
      "display": null,
      "flex": null,
      "flex_flow": null,
      "grid_area": null,
      "grid_auto_columns": null,
      "grid_auto_flow": null,
      "grid_auto_rows": null,
      "grid_column": null,
      "grid_gap": null,
      "grid_row": null,
      "grid_template_areas": null,
      "grid_template_columns": null,
      "grid_template_rows": null,
      "height": null,
      "justify_content": null,
      "justify_items": null,
      "left": null,
      "margin": null,
      "max_height": null,
      "max_width": null,
      "min_height": null,
      "min_width": null,
      "object_fit": null,
      "object_position": null,
      "order": null,
      "overflow": null,
      "overflow_x": null,
      "overflow_y": null,
      "padding": null,
      "right": null,
      "top": null,
      "visibility": null,
      "width": null
     }
    },
    "52777e048c974aaabae1c75388eb6d31": {
     "model_module": "@jupyter-widgets/base",
     "model_name": "LayoutModel",
     "state": {
      "_model_module": "@jupyter-widgets/base",
      "_model_module_version": "1.2.0",
      "_model_name": "LayoutModel",
      "_view_count": null,
      "_view_module": "@jupyter-widgets/base",
      "_view_module_version": "1.2.0",
      "_view_name": "LayoutView",
      "align_content": null,
      "align_items": null,
      "align_self": null,
      "border": null,
      "bottom": null,
      "display": null,
      "flex": "2",
      "flex_flow": null,
      "grid_area": null,
      "grid_auto_columns": null,
      "grid_auto_flow": null,
      "grid_auto_rows": null,
      "grid_column": null,
      "grid_gap": null,
      "grid_row": null,
      "grid_template_areas": null,
      "grid_template_columns": null,
      "grid_template_rows": null,
      "height": null,
      "justify_content": null,
      "justify_items": null,
      "left": null,
      "margin": null,
      "max_height": null,
      "max_width": null,
      "min_height": null,
      "min_width": null,
      "object_fit": null,
      "object_position": null,
      "order": null,
      "overflow": null,
      "overflow_x": null,
      "overflow_y": null,
      "padding": null,
      "right": null,
      "top": null,
      "visibility": null,
      "width": null
     }
    },
    "55538afef7af477aa08d315a77d58f89": {
     "model_module": "@jupyter-widgets/controls",
     "model_name": "HTMLModel",
     "state": {
      "_dom_classes": [],
      "_model_module": "@jupyter-widgets/controls",
      "_model_module_version": "1.5.0",
      "_model_name": "HTMLModel",
      "_view_count": null,
      "_view_module": "@jupyter-widgets/controls",
      "_view_module_version": "1.5.0",
      "_view_name": "HTMLView",
      "description": "",
      "description_tooltip": null,
      "layout": "IPY_MODEL_4f5cd3fe1e02417b806d19456f727ea7",
      "placeholder": "​",
      "style": "IPY_MODEL_d22d1245f7ff4cee884686ca66df708f",
      "value": "Done! Use &#x27;show&#x27; commands to display/save.   "
     }
    },
    "9c656e2fcc06466b8f82b61659c8ab24": {
     "model_module": "@jupyter-widgets/controls",
     "model_name": "DescriptionStyleModel",
     "state": {
      "_model_module": "@jupyter-widgets/controls",
      "_model_module_version": "1.5.0",
      "_model_name": "DescriptionStyleModel",
      "_view_count": null,
      "_view_module": "@jupyter-widgets/base",
      "_view_module_version": "1.2.0",
      "_view_name": "StyleView",
      "description_width": ""
     }
    },
    "b5a86d6fbfe247d6ae126bda5b2b047c": {
     "model_module": "@jupyter-widgets/base",
     "model_name": "LayoutModel",
     "state": {
      "_model_module": "@jupyter-widgets/base",
      "_model_module_version": "1.2.0",
      "_model_name": "LayoutModel",
      "_view_count": null,
      "_view_module": "@jupyter-widgets/base",
      "_view_module_version": "1.2.0",
      "_view_name": "LayoutView",
      "align_content": null,
      "align_items": null,
      "align_self": null,
      "border": null,
      "bottom": null,
      "display": "inline-flex",
      "flex": null,
      "flex_flow": "row wrap",
      "grid_area": null,
      "grid_auto_columns": null,
      "grid_auto_flow": null,
      "grid_auto_rows": null,
      "grid_column": null,
      "grid_gap": null,
      "grid_row": null,
      "grid_template_areas": null,
      "grid_template_columns": null,
      "grid_template_rows": null,
      "height": null,
      "justify_content": null,
      "justify_items": null,
      "left": null,
      "margin": null,
      "max_height": null,
      "max_width": null,
      "min_height": null,
      "min_width": null,
      "object_fit": null,
      "object_position": null,
      "order": null,
      "overflow": null,
      "overflow_x": null,
      "overflow_y": null,
      "padding": null,
      "right": null,
      "top": null,
      "visibility": null,
      "width": "100%"
     }
    },
    "be65d61ff842471f8afcd4bd19440277": {
     "model_module": "@jupyter-widgets/controls",
     "model_name": "FloatProgressModel",
     "state": {
      "_dom_classes": [],
      "_model_module": "@jupyter-widgets/controls",
      "_model_module_version": "1.5.0",
      "_model_name": "FloatProgressModel",
      "_view_count": null,
      "_view_module": "@jupyter-widgets/controls",
      "_view_module_version": "1.5.0",
      "_view_name": "ProgressView",
      "bar_style": "success",
      "description": "",
      "description_tooltip": null,
      "layout": "IPY_MODEL_52777e048c974aaabae1c75388eb6d31",
      "max": 1,
      "min": 0,
      "orientation": "horizontal",
      "style": "IPY_MODEL_12bb4bb32aa74bf7a636bea757e424fd",
      "value": 1
     }
    },
    "be6da7395cfd4ac090ed18f44622c39c": {
     "model_module": "@jupyter-widgets/controls",
     "model_name": "HTMLModel",
     "state": {
      "_dom_classes": [],
      "_model_module": "@jupyter-widgets/controls",
      "_model_module_version": "1.5.0",
      "_model_name": "HTMLModel",
      "_view_count": null,
      "_view_module": "@jupyter-widgets/controls",
      "_view_module_version": "1.5.0",
      "_view_name": "HTMLView",
      "description": "",
      "description_tooltip": null,
      "layout": "IPY_MODEL_4be4c9aca3c54ebd867403b252dde372",
      "placeholder": "​",
      "style": "IPY_MODEL_9c656e2fcc06466b8f82b61659c8ab24",
      "value": " [100%]   00:00 -&gt; (00:00 left)"
     }
    },
    "d22d1245f7ff4cee884686ca66df708f": {
     "model_module": "@jupyter-widgets/controls",
     "model_name": "DescriptionStyleModel",
     "state": {
      "_model_module": "@jupyter-widgets/controls",
      "_model_module_version": "1.5.0",
      "_model_name": "DescriptionStyleModel",
      "_view_count": null,
      "_view_module": "@jupyter-widgets/base",
      "_view_module_version": "1.2.0",
      "_view_name": "StyleView",
      "description_width": ""
     }
    }
   }
  }
 },
 "nbformat": 4,
 "nbformat_minor": 1
}
